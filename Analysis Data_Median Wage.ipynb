{
  "nbformat": 4,
  "nbformat_minor": 0,
  "metadata": {
    "colab": {
      "name": "CPS Monthly  Median Wage_20032021.ipynb",
      "provenance": []
    },
    "kernelspec": {
      "name": "python3",
      "display_name": "Python 3"
    },
    "language_info": {
      "name": "python"
    }
  },
  "cells": [
    {
      "cell_type": "code",
      "metadata": {
        "colab": {
          "base_uri": "https://localhost:8080/"
        },
        "id": "6-CbfSk9MK8r",
        "outputId": "2859bf62-5109-4642-e343-8d4967482ba7"
      },
      "source": [
        "from google.colab import drive\n",
        "drive.mount('/content/drive/')\n",
        "import pandas as pd\n",
        "import os\n",
        "from pandas.core.common import SettingWithCopyWarning\n",
        "import warnings\n",
        "import time\n",
        "import re, copy, pickle\n",
        "start_time=time.time()\n",
        "pd.set_option('display.float_format', lambda x: '%.2f' % x)\n",
        "warnings.simplefilter(action=\"ignore\", category=SettingWithCopyWarning)\n",
        "\n",
        "files=['df_data_2021','df_data_2015-2021','df_data_2010-2015','df_data_2003-2010']\n",
        "#files=['df_data_2021']"
      ],
      "execution_count": null,
      "outputs": [
        {
          "output_type": "stream",
          "name": "stdout",
          "text": [
            "Mounted at /content/drive/\n"
          ]
        }
      ]
    },
    {
      "cell_type": "code",
      "metadata": {
        "id": "oSJHyyvKdO9i"
      },
      "source": [
        "def default_filter(df):\n",
        "  #default setting: age>=16, work full time, some specific occupation are excluded.\n",
        "  df['PWORWGT']=df['PWORWGT'].div(10000)\n",
        "  df['PTERNWA']=df['PTERNWA'].div(100)\n",
        "  df=df.loc[df['PTERNWA']>=24.5]\n",
        "  df=df.loc[(df['HRINTSTA']==1) & (df['PRTAGE']>=16) & (df['PRPERTYP']==2) & \\\n",
        "((df['HRMIS']==4) | (df['HRMIS']==8)) & ((df['PEMLR']>=1) & (df['PEMLR']<=2)) & \\\n",
        "((df['PEHRUSL1']>=35) | ((df['PEMJOT']==2)&(df['PEHRFTPT']==1))) & \\\n",
        "(((df['PRDTCOW1']>=1)&(df['PRDTCOW1']<=2))|((df['PRDTCOW1']>=5)&(df['PRDTCOW1']<=9))) & (df['PEIO1COW'] != 6)] \n",
        "  df_income_all=df[['CPSDATE','ID','PWORWGT','PTERNWA','PRTAGE','PESEX','PTDTRACE','PEEDUCA', 'PRDTOCC1']]\n",
        "  return df_income_all\n",
        "\n"
      ],
      "execution_count": null,
      "outputs": []
    },
    {
      "cell_type": "code",
      "metadata": {
        "id": "3CAEMPGKT8o2"
      },
      "source": [
        "#Additional Filter: age-PRTAGE, sex-PESEX, race-PTDTRACE, education-PEEDUCA, occupation-PRDTOCC1. 'all' means to use the default setting.\n",
        "#addtional_filter=[[‘all’,’all’,’all’,’all’,’all’], [‘all,’men’,’all’,’all’,’all’], [‘all’,’women’,’all’,’all’,’all’], [‘all’,’all’,’all’,’bachelor and above’,’all’], [’between 25 and 54’,’all’,’white only’,’all’,’all’] , [‘all,’all’,’asian only’,’all’,’all’],[’between 25 and 54’,’all’,’asian only’,’all’,’all’],[‘all’,’all’,’all’,’all’,’ Management, business, and financial operations occupations’]]\n",
        "operatorsRep = {'>=':'ge','<=':'le','<':'lt','>':'gt','!=':'ne','=':'eq'}\n",
        "filter_dic={'between 25 and 54':'between 25 and 54', '>=25':'>=25',\\\n",
        "            'men':'=1', 'women':'=2', 'bachelor and above': '>=43', 'white only': '=1', 'asian only': '=4',\\\n",
        "            'Management, business, and financial operations occupations': 'between 1 and 2'}\n",
        "\n",
        "additional_filters=[{'age-PRTAGE':'all', 'sex-PESEX': 'all', 'race-PTDTRACE': 'all', 'education-PEEDUCA': 'all', 'occupation-PRDTOCC1': 'all'},\\\n",
        "                   {'age-PRTAGE':'all', 'sex-PESEX': 'men', 'race-PTDTRACE': 'all', 'education-PEEDUCA': 'all', 'occupation-PRDTOCC1': 'all'},\\\n",
        "                   {'age-PRTAGE':'all', 'sex-PESEX': 'women', 'race-PTDTRACE': 'all', 'education-PEEDUCA': 'all', 'occupation-PRDTOCC1': 'all'},\\\n",
        "                    {'age-PRTAGE':'>=25', 'sex-PESEX': 'all', 'race-PTDTRACE': 'all', 'education-PEEDUCA': 'bachelor and above', 'occupation-PRDTOCC1': 'all'},\\\n",
        "                   {'age-PRTAGE':'between 25 and 54', 'sex-PESEX': 'all', 'race-PTDTRACE': 'white only', 'education-PEEDUCA': 'all', 'occupation-PRDTOCC1': 'all'},\\\n",
        "                   {'age-PRTAGE':'all', 'sex-PESEX': 'all', 'race-PTDTRACE': 'asian only', 'education-PEEDUCA': 'all', 'occupation-PRDTOCC1': 'all'},\\\n",
        "                    {'age-PRTAGE':'all', 'sex-PESEX': 'all', 'race-PTDTRACE': 'all', 'education-PEEDUCA': 'all', 'occupation-PRDTOCC1': 'Management, business, and financial operations occupations'},\\\n",
        "                   {'age-PRTAGE':'between 25 and 54', 'sex-PESEX': 'all', 'race-PTDTRACE': 'asian only', 'education-PEEDUCA': 'all', 'occupation-PRDTOCC1': 'all'}\n",
        "                   ]"
      ],
      "execution_count": null,
      "outputs": []
    },
    {
      "cell_type": "code",
      "metadata": {
        "id": "dLnHvSrulome"
      },
      "source": [
        "def additional_filter(df_income, filter):\n",
        "  for k, v in filter.items():\n",
        "    if v!='all':\n",
        "      col_name=re.findall('.+-(\\w+)', k)[0]\n",
        "      match=re.findall('between (\\d+) and (\\d+)', filter_dic[v])\n",
        "      if not match:\n",
        "        condition=re.findall('(.*\\D)(\\d+)',filter_dic[v])\n",
        "        operator=operatorsRep[condition[0][0]]\n",
        "        filter_value=int(condition[0][1])\n",
        "        if operator in ('ne', 'lt', 'le', 'gt', 'ge'):\n",
        "            df_income = df_income.loc[getattr(df_income[col_name], operator)(filter_value)]\n",
        "        elif operator == 'eq':\n",
        "            df_income = df_income.loc[df_income[col_name]==filter_value]\n",
        "      else:\n",
        "        df_income=df_income.loc[(df_income[col_name]>=int(match[0][0])) & (df_income[col_name]<=int(match[0][1]))]\n",
        "  return df_income\n"
      ],
      "execution_count": null,
      "outputs": []
    },
    {
      "cell_type": "code",
      "metadata": {
        "id": "A3vfrADUeSf9",
        "colab": {
          "base_uri": "https://localhost:8080/",
          "height": 143
        },
        "outputId": "db431152-6c95-4780-c571-82def6036c62"
      },
      "source": [
        "\n",
        "path='/content/drive/My Drive/BOC_V6/all_data/'\n",
        "folders=os.listdir(path)\n",
        "dataList=[]\n",
        "for sub_fileName in files:\n",
        "  df=pd.DataFrame()\n",
        "  for folder in folders:\n",
        "    fileName=sub_fileName+'_'+str(folder)\n",
        "    path_file=path+folder+'/'+fileName+'.csv'\n",
        "    df_sub=pd.read_csv(path_file)\n",
        "    if folder=='V1':\n",
        "      df=df_sub\n",
        "    else:\n",
        "      if folder=='V2':\n",
        "        df_sub=df_sub.drop(columns=[\"CPSDATE\", \"PRTAGE\", \"PWCMPWGT\"])\n",
        "      elif folder=='V3':\n",
        "        df_sub=df_sub.drop(columns=[\"CPSDATE\", \"PRTAGE\", \"PWCMPWGT\"])\n",
        "      elif folder=='V4':\n",
        "        df_sub=df_sub.drop(columns=[\"CPSDATE\", \"PWCMPWGT\"])\n",
        "      df=df.merge(df_sub, how='left', on='ID')\n",
        "  df_income_all=default_filter(df)\n",
        "  unique_cpsdates=df_income_all['CPSDATE'].unique()\n",
        "  for cpsdate in unique_cpsdates:\n",
        "    df_income0=df_income_all.loc[df_income_all['CPSDATE']==cpsdate]\n",
        "    num_filter=0\n",
        "    for filter in additional_filters:\n",
        "      num_filter+=1\n",
        "      df_income=additional_filter(df_income0, filter)\n",
        "      weight_median_point=df_income['PWORWGT'].sum()*0.5\n",
        "      df_income.sort_values(by=['PTERNWA'],inplace=True)\n",
        "      df_income.reset_index(drop=True, inplace=True)\n",
        "      weight_sum=0\n",
        "      for index, row in df_income.iterrows():\n",
        "        weight_sum = weight_sum + row['PWORWGT']\n",
        "        if weight_sum >= weight_median_point:\n",
        "          bin_median=((row['PTERNWA']/100+31.755)-32)//0.5\n",
        "          index_end=index\n",
        "          break\n",
        "\n",
        "      size=len(df_income)\n",
        "      std=df_income['PTERNWA'].std()\n",
        "\n",
        "      df_additional_weight=df_income.loc[(df_income.index<=index_end) & (((df_income['PTERNWA']/100+31.755)-32)//0.5==bin_median)]\n",
        "      additional_weight=df_additional_weight['PWORWGT'].sum()\n",
        "      weight_sum_up_to_median_bin=weight_sum-additional_weight\n",
        "      df_weight_bin_median=df_income.loc[(((df_income['PTERNWA']/100+31.755)-32)//0.5==bin_median)]\n",
        "      weight_bin_median=df_weight_bin_median['PWORWGT'].sum()\n",
        "      transformed_median_income=(32+bin_median*0.5)+0.5*(weight_median_point-weight_sum_up_to_median_bin)/weight_bin_median\n",
        "      median_income=(transformed_median_income-31.755)*100\n",
        "      filter_conditions=list(filter.values())\n",
        "      dataList_sub=[cpsdate, median_income, size, std, num_filter]\n",
        "\n",
        "      dataList_sub.extend(filter_conditions)\n",
        "      dataList.append(dataList_sub) \n",
        "\n",
        "\n",
        "df_result=pd.DataFrame(dataList)\n",
        "df_result.columns=['Date','Median Wage', 'sample size','std(wage)', 'num_filter','Age(all means over 16yrs)', 'Sex', 'Race', 'Education','Occupation']     \n",
        "df_result.sort_values(by=['num_filter','Date'], inplace=True)\n",
        "df_result.reset_index(drop=True, inplace=True)\n",
        "df_result0=df_result\n",
        "df_result0.to_csv(\"/content/drive/My Drive/BOC_V6/cpsResult_resultMonthly2003-2021.csv\", index=False)\n",
        "      \n",
        "  \n",
        "df_result0.head(3)\n"
      ],
      "execution_count": null,
      "outputs": [
        {
          "output_type": "execute_result",
          "data": {
            "text/html": [
              "<div>\n",
              "<style scoped>\n",
              "    .dataframe tbody tr th:only-of-type {\n",
              "        vertical-align: middle;\n",
              "    }\n",
              "\n",
              "    .dataframe tbody tr th {\n",
              "        vertical-align: top;\n",
              "    }\n",
              "\n",
              "    .dataframe thead th {\n",
              "        text-align: right;\n",
              "    }\n",
              "</style>\n",
              "<table border=\"1\" class=\"dataframe\">\n",
              "  <thead>\n",
              "    <tr style=\"text-align: right;\">\n",
              "      <th></th>\n",
              "      <th>Date</th>\n",
              "      <th>Median Wage</th>\n",
              "      <th>sample size</th>\n",
              "      <th>std(wage)</th>\n",
              "      <th>num_filter</th>\n",
              "      <th>Age(all means over 16yrs)</th>\n",
              "      <th>Sex</th>\n",
              "      <th>Race</th>\n",
              "      <th>Education</th>\n",
              "      <th>Occupation</th>\n",
              "    </tr>\n",
              "  </thead>\n",
              "  <tbody>\n",
              "    <tr>\n",
              "      <th>0</th>\n",
              "      <td>2003-01</td>\n",
              "      <td>615.97</td>\n",
              "      <td>12333</td>\n",
              "      <td>500.79</td>\n",
              "      <td>1</td>\n",
              "      <td>all</td>\n",
              "      <td>all</td>\n",
              "      <td>all</td>\n",
              "      <td>all</td>\n",
              "      <td>all</td>\n",
              "    </tr>\n",
              "    <tr>\n",
              "      <th>1</th>\n",
              "      <td>2003-02</td>\n",
              "      <td>623.55</td>\n",
              "      <td>12227</td>\n",
              "      <td>505.85</td>\n",
              "      <td>1</td>\n",
              "      <td>all</td>\n",
              "      <td>all</td>\n",
              "      <td>all</td>\n",
              "      <td>all</td>\n",
              "      <td>all</td>\n",
              "    </tr>\n",
              "    <tr>\n",
              "      <th>2</th>\n",
              "      <td>2003-03</td>\n",
              "      <td>622.91</td>\n",
              "      <td>12326</td>\n",
              "      <td>500.55</td>\n",
              "      <td>1</td>\n",
              "      <td>all</td>\n",
              "      <td>all</td>\n",
              "      <td>all</td>\n",
              "      <td>all</td>\n",
              "      <td>all</td>\n",
              "    </tr>\n",
              "  </tbody>\n",
              "</table>\n",
              "</div>"
            ],
            "text/plain": [
              "      Date  Median Wage  sample size  std(wage)  ...  Sex Race Education Occupation\n",
              "0  2003-01       615.97        12333     500.79  ...  all  all       all        all\n",
              "1  2003-02       623.55        12227     505.85  ...  all  all       all        all\n",
              "2  2003-03       622.91        12326     500.55  ...  all  all       all        all\n",
              "\n",
              "[3 rows x 10 columns]"
            ]
          },
          "metadata": {},
          "execution_count": 5
        }
      ]
    },
    {
      "cell_type": "code",
      "metadata": {
        "id": "HlwYrw4JHF9e"
      },
      "source": [
        "import re\n",
        "def year_season(cpsdate):\n",
        "    match=re.findall('(\\d+)-(\\d+)', cpsdate)\n",
        "    cpsyear=match[0][0]\n",
        "    cpsmonth=int(match[0][1])\n",
        "    season=None\n",
        "    if cpsmonth<=3:\n",
        "        season=1\n",
        "    elif cpsmonth<=6:\n",
        "        season=2\n",
        "    elif cpsmonth<=9:\n",
        "        season=3\n",
        "    elif cpsmonth<=12:\n",
        "        season=4\n",
        "    return cpsyear+'-'+str(season)"
      ],
      "execution_count": null,
      "outputs": []
    },
    {
      "cell_type": "code",
      "metadata": {
        "colab": {
          "base_uri": "https://localhost:8080/",
          "height": 423
        },
        "id": "FYSzaDEqG3Sz",
        "outputId": "cfd02bfb-51d9-40c2-8fed-3a590525e3a5"
      },
      "source": [
        "df_result.insert(1,'year-season',[year_season(str(date)) for date in df_result['Date']])\n",
        "df_result_quarterly=df_result.groupby(by=['num_filter','Age(all means over 16yrs)', 'Sex', 'Race', 'Education','Occupation','year-season'], as_index=False).mean()\n",
        "df_result_quarterly.sort_values(by=['num_filter','year-season'], inplace=True)\n",
        "df_result_quarterly.reset_index(drop=True, inplace=True)\n",
        "new_cols=['year-season','Median Wage','sample size','std(wage)','num_filter','Age(all means over 16yrs)', 'Sex', 'Race', 'Education','Occupation']\n",
        "df_result_quarterly= df_result_quarterly.reindex(columns=new_cols)\n",
        "df_result_quarterly.to_csv(\"/content/drive/My Drive/BOC_V6/cpsResult_resultQuarterly2003-2021.csv\", index=False)\n",
        "df_result_quarterly"
      ],
      "execution_count": null,
      "outputs": [
        {
          "output_type": "execute_result",
          "data": {
            "text/html": [
              "<div>\n",
              "<style scoped>\n",
              "    .dataframe tbody tr th:only-of-type {\n",
              "        vertical-align: middle;\n",
              "    }\n",
              "\n",
              "    .dataframe tbody tr th {\n",
              "        vertical-align: top;\n",
              "    }\n",
              "\n",
              "    .dataframe thead th {\n",
              "        text-align: right;\n",
              "    }\n",
              "</style>\n",
              "<table border=\"1\" class=\"dataframe\">\n",
              "  <thead>\n",
              "    <tr style=\"text-align: right;\">\n",
              "      <th></th>\n",
              "      <th>year-season</th>\n",
              "      <th>Median Wage</th>\n",
              "      <th>sample size</th>\n",
              "      <th>std(wage)</th>\n",
              "      <th>num_filter</th>\n",
              "      <th>Age(all means over 16yrs)</th>\n",
              "      <th>Sex</th>\n",
              "      <th>Race</th>\n",
              "      <th>Education</th>\n",
              "      <th>Occupation</th>\n",
              "    </tr>\n",
              "  </thead>\n",
              "  <tbody>\n",
              "    <tr>\n",
              "      <th>0</th>\n",
              "      <td>2003-1</td>\n",
              "      <td>620.81</td>\n",
              "      <td>12295.33</td>\n",
              "      <td>502.40</td>\n",
              "      <td>1</td>\n",
              "      <td>all</td>\n",
              "      <td>all</td>\n",
              "      <td>all</td>\n",
              "      <td>all</td>\n",
              "      <td>all</td>\n",
              "    </tr>\n",
              "    <tr>\n",
              "      <th>1</th>\n",
              "      <td>2003-2</td>\n",
              "      <td>617.03</td>\n",
              "      <td>12291.33</td>\n",
              "      <td>505.33</td>\n",
              "      <td>1</td>\n",
              "      <td>all</td>\n",
              "      <td>all</td>\n",
              "      <td>all</td>\n",
              "      <td>all</td>\n",
              "      <td>all</td>\n",
              "    </tr>\n",
              "    <tr>\n",
              "      <th>2</th>\n",
              "      <td>2003-3</td>\n",
              "      <td>619.30</td>\n",
              "      <td>12195.67</td>\n",
              "      <td>497.95</td>\n",
              "      <td>1</td>\n",
              "      <td>all</td>\n",
              "      <td>all</td>\n",
              "      <td>all</td>\n",
              "      <td>all</td>\n",
              "      <td>all</td>\n",
              "    </tr>\n",
              "    <tr>\n",
              "      <th>3</th>\n",
              "      <td>2003-4</td>\n",
              "      <td>627.63</td>\n",
              "      <td>12059.67</td>\n",
              "      <td>507.69</td>\n",
              "      <td>1</td>\n",
              "      <td>all</td>\n",
              "      <td>all</td>\n",
              "      <td>all</td>\n",
              "      <td>all</td>\n",
              "      <td>all</td>\n",
              "    </tr>\n",
              "    <tr>\n",
              "      <th>4</th>\n",
              "      <td>2004-1</td>\n",
              "      <td>634.76</td>\n",
              "      <td>12012.67</td>\n",
              "      <td>516.95</td>\n",
              "      <td>1</td>\n",
              "      <td>all</td>\n",
              "      <td>all</td>\n",
              "      <td>all</td>\n",
              "      <td>all</td>\n",
              "      <td>all</td>\n",
              "    </tr>\n",
              "    <tr>\n",
              "      <th>...</th>\n",
              "      <td>...</td>\n",
              "      <td>...</td>\n",
              "      <td>...</td>\n",
              "      <td>...</td>\n",
              "      <td>...</td>\n",
              "      <td>...</td>\n",
              "      <td>...</td>\n",
              "      <td>...</td>\n",
              "      <td>...</td>\n",
              "      <td>...</td>\n",
              "    </tr>\n",
              "    <tr>\n",
              "      <th>595</th>\n",
              "      <td>2020-3</td>\n",
              "      <td>1517.35</td>\n",
              "      <td>393.00</td>\n",
              "      <td>807.22</td>\n",
              "      <td>8</td>\n",
              "      <td>between 25 and 54</td>\n",
              "      <td>all</td>\n",
              "      <td>asian only</td>\n",
              "      <td>all</td>\n",
              "      <td>all</td>\n",
              "    </tr>\n",
              "    <tr>\n",
              "      <th>596</th>\n",
              "      <td>2020-4</td>\n",
              "      <td>1364.54</td>\n",
              "      <td>433.33</td>\n",
              "      <td>798.41</td>\n",
              "      <td>8</td>\n",
              "      <td>between 25 and 54</td>\n",
              "      <td>all</td>\n",
              "      <td>asian only</td>\n",
              "      <td>all</td>\n",
              "      <td>all</td>\n",
              "    </tr>\n",
              "    <tr>\n",
              "      <th>597</th>\n",
              "      <td>2021-1</td>\n",
              "      <td>1390.86</td>\n",
              "      <td>438.67</td>\n",
              "      <td>814.44</td>\n",
              "      <td>8</td>\n",
              "      <td>between 25 and 54</td>\n",
              "      <td>all</td>\n",
              "      <td>asian only</td>\n",
              "      <td>all</td>\n",
              "      <td>all</td>\n",
              "    </tr>\n",
              "    <tr>\n",
              "      <th>598</th>\n",
              "      <td>2021-2</td>\n",
              "      <td>1364.01</td>\n",
              "      <td>433.00</td>\n",
              "      <td>794.81</td>\n",
              "      <td>8</td>\n",
              "      <td>between 25 and 54</td>\n",
              "      <td>all</td>\n",
              "      <td>asian only</td>\n",
              "      <td>all</td>\n",
              "      <td>all</td>\n",
              "    </tr>\n",
              "    <tr>\n",
              "      <th>599</th>\n",
              "      <td>2021-3</td>\n",
              "      <td>1324.19</td>\n",
              "      <td>438.00</td>\n",
              "      <td>814.68</td>\n",
              "      <td>8</td>\n",
              "      <td>between 25 and 54</td>\n",
              "      <td>all</td>\n",
              "      <td>asian only</td>\n",
              "      <td>all</td>\n",
              "      <td>all</td>\n",
              "    </tr>\n",
              "  </tbody>\n",
              "</table>\n",
              "<p>600 rows × 10 columns</p>\n",
              "</div>"
            ],
            "text/plain": [
              "    year-season  Median Wage  sample size  ...        Race  Education Occupation\n",
              "0        2003-1       620.81     12295.33  ...         all        all        all\n",
              "1        2003-2       617.03     12291.33  ...         all        all        all\n",
              "2        2003-3       619.30     12195.67  ...         all        all        all\n",
              "3        2003-4       627.63     12059.67  ...         all        all        all\n",
              "4        2004-1       634.76     12012.67  ...         all        all        all\n",
              "..          ...          ...          ...  ...         ...        ...        ...\n",
              "595      2020-3      1517.35       393.00  ...  asian only        all        all\n",
              "596      2020-4      1364.54       433.33  ...  asian only        all        all\n",
              "597      2021-1      1390.86       438.67  ...  asian only        all        all\n",
              "598      2021-2      1364.01       433.00  ...  asian only        all        all\n",
              "599      2021-3      1324.19       438.00  ...  asian only        all        all\n",
              "\n",
              "[600 rows x 10 columns]"
            ]
          },
          "metadata": {},
          "execution_count": 7
        }
      ]
    },
    {
      "cell_type": "code",
      "metadata": {
        "colab": {
          "base_uri": "https://localhost:8080/"
        },
        "id": "ZshefMmkvRsh",
        "outputId": "ba25a36c-f4c6-406a-e144-63485e4255d1"
      },
      "source": [
        "#Comparision\n",
        "\n",
        "df_result_monthly0=pd.read_csv(\"/content/drive/My Drive/cpsResult_df_resultMonthly2021\")\n",
        "df_result_quarterly0=pd.read_csv(\"/content/drive/My Drive/cpsResult_df_resultquarterly2021\")\n",
        "\n",
        "different_Monthly=False\n",
        "for index, row in df_result_monthly0.iterrows():\n",
        "  df_diff=df_result0.loc[(df_result0['Date']==row['Date']) & (df_result0['Age(all means over 16yrs)']==row['Age(all means over 16yrs)']) & (df_result0['Sex']==row['Sex']) & (df_result0['Race']==row['Race']) & (df_result0['Education']==row['Education']) & (df_result0['Occupation']==row['Occupation'])]\n",
        "  if round(df_diff['Median Wage'].item(),3) != round(row['Median Wage'],3):\n",
        "    display(df_diff)\n",
        "    print('\\n')\n",
        "    different_Monthly=True\n",
        "if not different_Monthly:\n",
        "  print('all data are same as saved df_result_monthly')\n",
        "\n",
        "different_Quarterly=False\n",
        "for index, row in df_result_quarterly0.iterrows():\n",
        "  df_diff=df_result_quarterly.loc[(df_result_quarterly['year-season']==row['year-season']) &\\\n",
        "                                  (df_result_quarterly['Age(all means over 16yrs)']==row['Age(all means over 16yrs)']) & \\\n",
        "                                  (df_result_quarterly['Sex']==row['Sex']) & (df_result_quarterly['Race']==row['Race']) & \\\n",
        "                                  (df_result_quarterly['Education']==row['Education']) & (df_result_quarterly['Occupation']==row['Occupation'])]\n",
        "\n",
        "  if round(df_diff['Median Wage'].item(),3) != round(row['Median Wage'],3):\n",
        "    display(df_diff)\n",
        "    print('\\n')\n",
        "    different_Quarterly=True\n",
        "if not different_Quarterly:\n",
        "  print('all data are same as saved df_result_quarterly')"
      ],
      "execution_count": null,
      "outputs": [
        {
          "output_type": "stream",
          "name": "stdout",
          "text": [
            "all data are same as saved df_result_monthly\n",
            "all data are same as saved df_result_quarterly\n"
          ]
        }
      ]
    },
    {
      "cell_type": "code",
      "metadata": {
        "colab": {
          "base_uri": "https://localhost:8080/"
        },
        "id": "YBN8aGZ8npbp",
        "outputId": "23cee52f-b264-49f3-8c87-a13ed64315a7"
      },
      "source": [
        "end_time=time.time()\n",
        "total_time=round((end_time-start_time)/60,1)\n",
        "print(f'total running time is {total_time} minutes')"
      ],
      "execution_count": null,
      "outputs": [
        {
          "output_type": "stream",
          "name": "stdout",
          "text": [
            "total running time is 9.7 minutes\n"
          ]
        }
      ]
    },
    {
      "cell_type": "code",
      "metadata": {
        "colab": {
          "base_uri": "https://localhost:8080/"
        },
        "id": "IJcJo4HV8BQW",
        "outputId": "b2eb0dd8-add1-4dd7-ba26-d4642ac52b02"
      },
      "source": [
        "from google.colab import drive\n",
        "drive.mount('/content/drive/')\n",
        "import pandas as pd\n",
        "df_result_quarterly0=pd.read_csv(\"/content/drive/My Drive/BOC_V6/cpsResult_resultQuarterly2003-2021.csv\")\n",
        "df_result_quarterly0=df_result_quarterly0.loc[df_result_quarterly0['num_filter']==1]"
      ],
      "execution_count": null,
      "outputs": [
        {
          "output_type": "stream",
          "name": "stdout",
          "text": [
            "Drive already mounted at /content/drive/; to attempt to forcibly remount, call drive.mount(\"/content/drive/\", force_remount=True).\n"
          ]
        }
      ]
    },
    {
      "cell_type": "code",
      "metadata": {
        "colab": {
          "base_uri": "https://localhost:8080/",
          "height": 334
        },
        "id": "ctWnl1TI87Ci",
        "outputId": "e5e3d115-37ab-47e0-e8b6-0193bdb2e094"
      },
      "source": [
        "df_result_quarterly0.plot(title='quarterly median wage', rot=45, x='year-season', y='Median Wage')"
      ],
      "execution_count": null,
      "outputs": [
        {
          "output_type": "execute_result",
          "data": {
            "text/plain": [
              "<matplotlib.axes._subplots.AxesSubplot at 0x7fa04e8b82d0>"
            ]
          },
          "metadata": {},
          "execution_count": 11
        },
        {
          "output_type": "display_data",
          "data": {
            "image/png": "[encoded data removed]",
            "text/plain": [
              "<Figure size 432x288 with 1 Axes>"
            ]
          },
          "metadata": {
            "needs_background": "light"
          }
        }
      ]
    }
  ]
}