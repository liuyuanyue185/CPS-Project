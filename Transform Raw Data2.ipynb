{
  "nbformat": 4,
  "nbformat_minor": 0,
  "metadata": {
    "colab": {
      "name": "Read Files2021_ALL.ipynb",
      "provenance": [],
      "collapsed_sections": []
    },
    "kernelspec": {
      "name": "python3",
      "display_name": "Python 3"
    },
    "language_info": {
      "name": "python"
    }
  },
  "cells": [
    {
      "cell_type": "code",
      "metadata": {
        "colab": {
          "base_uri": "https://localhost:8080/"
        },
        "id": "MujXJQvOMJ_2",
        "outputId": "2b4aff9e-1900-4304-873e-1f660039fc3d"
      },
      "source": [
        "var_names1=['PEMLR', 'PESEX', 'PRDTOCC1', 'PRPERTYP', 'PRTAGE', 'PTDTRACE', 'PWCMPWGT']\n",
        "var_names2=['PRTAGE','PWCMPWGT','PEHRUSL1', 'PEHRUSL2', 'PEHRACT1', 'PEHRACT2', 'PEERNHRO', 'PTERNWA']\n",
        "var_names3=['PRTAGE','PWCMPWGT','PWORWGT', 'PEEDUCA', 'PRNMCHLD', 'PEMARITL', 'PRDTIND1', 'PRMJIND1']\n",
        "var_names4=['PWCMPWGT', 'PRDTCOW1', 'HRMIS', 'PEIO1COW', 'PEMJOT', 'PEHRFTPT', 'HRINTSTA']\n",
        "var_names_all=var_names1+var_names2+var_names3+var_names4\n",
        "var_names_all=list(set(var_names_all))\n",
        "print(len(var_names_all))"
      ],
      "execution_count": null,
      "outputs": [
        {
          "output_type": "stream",
          "name": "stdout",
          "text": [
            "25\n"
          ]
        }
      ]
    },
    {
      "cell_type": "code",
      "metadata": {
        "colab": {
          "base_uri": "https://localhost:8080/"
        },
        "id": "Ljqqm6-poz4d",
        "outputId": "0e4d227a-15a0-490d-ca5b-69606d724849"
      },
      "source": [
        "from google.colab import drive\n",
        "import pickle\n",
        "import os, re, time\n",
        "import pandas as pd\n",
        "drive.mount('/content/drive/')\n",
        "var_names=var_names_all\n",
        "df_analysis_2003 = pickle.load(open( \"/content/drive/My Drive/BOC_V2/df_analysis_2003_all_V4\", \"rb\" ))\n",
        "to_csvFile='/content/drive/My Drive/BOC_V2/df_data_2021_ALL.csv'\n"
      ],
      "execution_count": null,
      "outputs": [
        {
          "output_type": "stream",
          "name": "stdout",
          "text": [
            "Drive already mounted at /content/drive/; to attempt to forcibly remount, call drive.mount(\"/content/drive/\", force_remount=True).\n"
          ]
        }
      ]
    },
    {
      "cell_type": "code",
      "metadata": {
        "colab": {
          "base_uri": "https://localhost:8080/"
        },
        "id": "HJTVL8wbTFTx",
        "outputId": "ce216df2-1650-4e87-9ef2-066f2f6b8d29"
      },
      "source": [
        "len(df_analysis_2003['name'].unique())"
      ],
      "execution_count": null,
      "outputs": [
        {
          "output_type": "execute_result",
          "data": {
            "text/plain": [
              "25"
            ]
          },
          "metadata": {},
          "execution_count": 7
        }
      ]
    },
    {
      "cell_type": "code",
      "metadata": {
        "id": "vziXlzWOMQSn"
      },
      "source": [
        "calendarMap={'jan':'01','feb':'02','mar':'03','apr':'04','may':'05','jun':'06','jul':'07','aug':'08','sep':'09','oct':'10','nov':'11','dec':'12'}\n",
        "from_path='/content/drive/My Drive/BOC_V2/2021_dat/'\n",
        "files = os.listdir(from_path)\n",
        "time_start=time.time()"
      ],
      "execution_count": null,
      "outputs": []
    },
    {
      "cell_type": "code",
      "metadata": {
        "colab": {
          "base_uri": "https://localhost:8080/",
          "height": 204
        },
        "id": "K_l0DKAw8h-O",
        "outputId": "08076ffe-4531-4a4f-b9f9-e51fb6997a90"
      },
      "source": [
        "df_analysis_2003.head(5)"
      ],
      "execution_count": null,
      "outputs": [
        {
          "output_type": "execute_result",
          "data": {
            "text/html": [
              "<div>\n",
              "<style scoped>\n",
              "    .dataframe tbody tr th:only-of-type {\n",
              "        vertical-align: middle;\n",
              "    }\n",
              "\n",
              "    .dataframe tbody tr th {\n",
              "        vertical-align: top;\n",
              "    }\n",
              "\n",
              "    .dataframe thead th {\n",
              "        text-align: right;\n",
              "    }\n",
              "</style>\n",
              "<table border=\"1\" class=\"dataframe\">\n",
              "  <thead>\n",
              "    <tr style=\"text-align: right;\">\n",
              "      <th></th>\n",
              "      <th>year</th>\n",
              "      <th>month_start</th>\n",
              "      <th>month_end</th>\n",
              "      <th>name</th>\n",
              "      <th>location_start</th>\n",
              "      <th>location_end</th>\n",
              "    </tr>\n",
              "  </thead>\n",
              "  <tbody>\n",
              "    <tr>\n",
              "      <th>0</th>\n",
              "      <td>2003</td>\n",
              "      <td>1</td>\n",
              "      <td>12</td>\n",
              "      <td>HRINTSTA</td>\n",
              "      <td>56</td>\n",
              "      <td>58</td>\n",
              "    </tr>\n",
              "    <tr>\n",
              "      <th>1</th>\n",
              "      <td>2003</td>\n",
              "      <td>1</td>\n",
              "      <td>12</td>\n",
              "      <td>HRMIS</td>\n",
              "      <td>62</td>\n",
              "      <td>64</td>\n",
              "    </tr>\n",
              "    <tr>\n",
              "      <th>2</th>\n",
              "      <td>2003</td>\n",
              "      <td>1</td>\n",
              "      <td>12</td>\n",
              "      <td>PEEDUCA</td>\n",
              "      <td>136</td>\n",
              "      <td>138</td>\n",
              "    </tr>\n",
              "    <tr>\n",
              "      <th>3</th>\n",
              "      <td>2003</td>\n",
              "      <td>1</td>\n",
              "      <td>12</td>\n",
              "      <td>PEERNHRO</td>\n",
              "      <td>524</td>\n",
              "      <td>526</td>\n",
              "    </tr>\n",
              "    <tr>\n",
              "      <th>4</th>\n",
              "      <td>2003</td>\n",
              "      <td>1</td>\n",
              "      <td>12</td>\n",
              "      <td>PEHRACT1</td>\n",
              "      <td>242</td>\n",
              "      <td>244</td>\n",
              "    </tr>\n",
              "  </tbody>\n",
              "</table>\n",
              "</div>"
            ],
            "text/plain": [
              "   year  month_start  month_end      name  location_start  location_end\n",
              "0  2003            1         12  HRINTSTA              56            58\n",
              "1  2003            1         12     HRMIS              62            64\n",
              "2  2003            1         12   PEEDUCA             136           138\n",
              "3  2003            1         12  PEERNHRO             524           526\n",
              "4  2003            1         12  PEHRACT1             242           244"
            ]
          },
          "metadata": {},
          "execution_count": 9
        }
      ]
    },
    {
      "cell_type": "code",
      "metadata": {
        "colab": {
          "base_uri": "https://localhost:8080/",
          "height": 439
        },
        "id": "-6BKYJtO68Wx",
        "outputId": "5f6e86b6-c23f-41c8-93f4-ce2b1e70f869"
      },
      "source": [
        "df_data=pd.DataFrame()\n",
        "for fileName in files:\n",
        "  #fileName='jan21pub.dat'\n",
        "  rawData_file=from_path+fileName\n",
        "  s=re.findall('(\\D+)(\\d*)pub[.]dat',fileName)[0]\n",
        "  month=int(calendarMap[s[0].lower()])\n",
        "  year=int('20'+s[1])\n",
        "\n",
        "  df_sub=df_analysis_2003.loc[(df_analysis_2003['year']==year) & (month>=df_analysis_2003['month_start'])&(month<=df_analysis_2003['month_end'])]\n",
        "  df_sub.reset_index(drop=True,inplace=True)\n",
        "\n",
        "  # dictionary of variable name: [start, end, and length + 's']\n",
        "  d = {row['name']: [row['location_start'], row['location_end']] for index, row in df_sub.iterrows()}\n",
        "  df_data_sub=pd.DataFrame()\n",
        "  names=locals()\n",
        "  # open file (read as binary) and read lines into \"raw_data\"\n",
        "  raw_data = open(rawData_file, 'r').readlines()\n",
        "  for name in var_names:\n",
        "    names[name]=[row[d[name][0]:d[name][1]] for row in raw_data]\n",
        "    df_data_sub[name]=names[name]\n",
        "\n",
        "  df_data_sub.insert(0,'ID',[int(str(year)+str(f\"{month:02}\")+str(num)) for num in range(1, len(df_data_sub)+1)])\n",
        "  df_data_sub.insert(0,'CPSDATE',[str(year)+'-'+str(f\"{month:02}\")]*len(df_data_sub)) #2021-03\n",
        "  df_data=pd.concat([df_data_sub, df_data])\n",
        "\n",
        "\n",
        "\n",
        "df_data\n"
      ],
      "execution_count": null,
      "outputs": [
        {
          "output_type": "execute_result",
          "data": {
            "text/html": [
              "<div>\n",
              "<style scoped>\n",
              "    .dataframe tbody tr th:only-of-type {\n",
              "        vertical-align: middle;\n",
              "    }\n",
              "\n",
              "    .dataframe tbody tr th {\n",
              "        vertical-align: top;\n",
              "    }\n",
              "\n",
              "    .dataframe thead th {\n",
              "        text-align: right;\n",
              "    }\n",
              "</style>\n",
              "<table border=\"1\" class=\"dataframe\">\n",
              "  <thead>\n",
              "    <tr style=\"text-align: right;\">\n",
              "      <th></th>\n",
              "      <th>CPSDATE</th>\n",
              "      <th>ID</th>\n",
              "      <th>PTDTRACE</th>\n",
              "      <th>PEIO1COW</th>\n",
              "      <th>PEHRUSL1</th>\n",
              "      <th>PRDTOCC1</th>\n",
              "      <th>PWORWGT</th>\n",
              "      <th>PRPERTYP</th>\n",
              "      <th>PEMARITL</th>\n",
              "      <th>PTERNWA</th>\n",
              "      <th>PEEDUCA</th>\n",
              "      <th>PEMLR</th>\n",
              "      <th>PRMJIND1</th>\n",
              "      <th>PEHRFTPT</th>\n",
              "      <th>HRMIS</th>\n",
              "      <th>PWCMPWGT</th>\n",
              "      <th>PRTAGE</th>\n",
              "      <th>PRDTIND1</th>\n",
              "      <th>PESEX</th>\n",
              "      <th>PEHRACT1</th>\n",
              "      <th>HRINTSTA</th>\n",
              "      <th>PEHRACT2</th>\n",
              "      <th>PEMJOT</th>\n",
              "      <th>PEERNHRO</th>\n",
              "      <th>PEHRUSL2</th>\n",
              "      <th>PRDTCOW1</th>\n",
              "      <th>PRNMCHLD</th>\n",
              "    </tr>\n",
              "  </thead>\n",
              "  <tbody>\n",
              "    <tr>\n",
              "      <th>0</th>\n",
              "      <td>2021-07</td>\n",
              "      <td>2021071</td>\n",
              "      <td>2</td>\n",
              "      <td>4</td>\n",
              "      <td>40</td>\n",
              "      <td>14</td>\n",
              "      <td>0</td>\n",
              "      <td>2</td>\n",
              "      <td>6</td>\n",
              "      <td>-1</td>\n",
              "      <td>39</td>\n",
              "      <td>1</td>\n",
              "      <td>9</td>\n",
              "      <td>-1</td>\n",
              "      <td>3</td>\n",
              "      <td>23289427</td>\n",
              "      <td>24</td>\n",
              "      <td>38</td>\n",
              "      <td>1</td>\n",
              "      <td>60</td>\n",
              "      <td>1</td>\n",
              "      <td>-1</td>\n",
              "      <td>2</td>\n",
              "      <td>-1</td>\n",
              "      <td>-1</td>\n",
              "      <td>6</td>\n",
              "      <td>0</td>\n",
              "    </tr>\n",
              "    <tr>\n",
              "      <th>1</th>\n",
              "      <td>2021-07</td>\n",
              "      <td>2021072</td>\n",
              "      <td>6</td>\n",
              "      <td>4</td>\n",
              "      <td>40</td>\n",
              "      <td>16</td>\n",
              "      <td>0</td>\n",
              "      <td>2</td>\n",
              "      <td>6</td>\n",
              "      <td>-1</td>\n",
              "      <td>39</td>\n",
              "      <td>1</td>\n",
              "      <td>5</td>\n",
              "      <td>-1</td>\n",
              "      <td>3</td>\n",
              "      <td>23438074</td>\n",
              "      <td>21</td>\n",
              "      <td>22</td>\n",
              "      <td>2</td>\n",
              "      <td>40</td>\n",
              "      <td>1</td>\n",
              "      <td>-1</td>\n",
              "      <td>2</td>\n",
              "      <td>-1</td>\n",
              "      <td>-1</td>\n",
              "      <td>6</td>\n",
              "      <td>0</td>\n",
              "    </tr>\n",
              "    <tr>\n",
              "      <th>2</th>\n",
              "      <td>2021-07</td>\n",
              "      <td>2021073</td>\n",
              "      <td>1</td>\n",
              "      <td>4</td>\n",
              "      <td>40</td>\n",
              "      <td>1</td>\n",
              "      <td>0</td>\n",
              "      <td>2</td>\n",
              "      <td>4</td>\n",
              "      <td>-1</td>\n",
              "      <td>43</td>\n",
              "      <td>1</td>\n",
              "      <td>4</td>\n",
              "      <td>-1</td>\n",
              "      <td>2</td>\n",
              "      <td>21812808</td>\n",
              "      <td>54</td>\n",
              "      <td>8</td>\n",
              "      <td>1</td>\n",
              "      <td>40</td>\n",
              "      <td>1</td>\n",
              "      <td>-1</td>\n",
              "      <td>2</td>\n",
              "      <td>-1</td>\n",
              "      <td>-1</td>\n",
              "      <td>6</td>\n",
              "      <td>0</td>\n",
              "    </tr>\n",
              "    <tr>\n",
              "      <th>3</th>\n",
              "      <td>2021-07</td>\n",
              "      <td>2021074</td>\n",
              "      <td>1</td>\n",
              "      <td>4</td>\n",
              "      <td>40</td>\n",
              "      <td>2</td>\n",
              "      <td>0</td>\n",
              "      <td>2</td>\n",
              "      <td>4</td>\n",
              "      <td>-1</td>\n",
              "      <td>43</td>\n",
              "      <td>1</td>\n",
              "      <td>9</td>\n",
              "      <td>-1</td>\n",
              "      <td>2</td>\n",
              "      <td>14878900</td>\n",
              "      <td>41</td>\n",
              "      <td>36</td>\n",
              "      <td>2</td>\n",
              "      <td>40</td>\n",
              "      <td>1</td>\n",
              "      <td>-1</td>\n",
              "      <td>2</td>\n",
              "      <td>-1</td>\n",
              "      <td>-1</td>\n",
              "      <td>6</td>\n",
              "      <td>0</td>\n",
              "    </tr>\n",
              "    <tr>\n",
              "      <th>4</th>\n",
              "      <td>2021-07</td>\n",
              "      <td>2021075</td>\n",
              "      <td>-1</td>\n",
              "      <td>-1</td>\n",
              "      <td>-1</td>\n",
              "      <td>-1</td>\n",
              "      <td>-1</td>\n",
              "      <td>-1</td>\n",
              "      <td>-1</td>\n",
              "      <td>-1</td>\n",
              "      <td>-1</td>\n",
              "      <td>-1</td>\n",
              "      <td>-1</td>\n",
              "      <td>-1</td>\n",
              "      <td>2</td>\n",
              "      <td>-1</td>\n",
              "      <td>-1</td>\n",
              "      <td>-1</td>\n",
              "      <td>-1</td>\n",
              "      <td>-1</td>\n",
              "      <td>2</td>\n",
              "      <td>-1</td>\n",
              "      <td>-1</td>\n",
              "      <td>-1</td>\n",
              "      <td>-1</td>\n",
              "      <td>-1</td>\n",
              "      <td>-1</td>\n",
              "    </tr>\n",
              "    <tr>\n",
              "      <th>...</th>\n",
              "      <td>...</td>\n",
              "      <td>...</td>\n",
              "      <td>...</td>\n",
              "      <td>...</td>\n",
              "      <td>...</td>\n",
              "      <td>...</td>\n",
              "      <td>...</td>\n",
              "      <td>...</td>\n",
              "      <td>...</td>\n",
              "      <td>...</td>\n",
              "      <td>...</td>\n",
              "      <td>...</td>\n",
              "      <td>...</td>\n",
              "      <td>...</td>\n",
              "      <td>...</td>\n",
              "      <td>...</td>\n",
              "      <td>...</td>\n",
              "      <td>...</td>\n",
              "      <td>...</td>\n",
              "      <td>...</td>\n",
              "      <td>...</td>\n",
              "      <td>...</td>\n",
              "      <td>...</td>\n",
              "      <td>...</td>\n",
              "      <td>...</td>\n",
              "      <td>...</td>\n",
              "      <td>...</td>\n",
              "    </tr>\n",
              "    <tr>\n",
              "      <th>133548</th>\n",
              "      <td>2021-01</td>\n",
              "      <td>202101133549</td>\n",
              "      <td>-1</td>\n",
              "      <td>-1</td>\n",
              "      <td>-1</td>\n",
              "      <td>-1</td>\n",
              "      <td>-1</td>\n",
              "      <td>-1</td>\n",
              "      <td>-1</td>\n",
              "      <td>-1</td>\n",
              "      <td>-1</td>\n",
              "      <td>-1</td>\n",
              "      <td>-1</td>\n",
              "      <td>-1</td>\n",
              "      <td>2</td>\n",
              "      <td>-1</td>\n",
              "      <td>-1</td>\n",
              "      <td>-1</td>\n",
              "      <td>-1</td>\n",
              "      <td>-1</td>\n",
              "      <td>2</td>\n",
              "      <td>-1</td>\n",
              "      <td>-1</td>\n",
              "      <td>-1</td>\n",
              "      <td>-1</td>\n",
              "      <td>-1</td>\n",
              "      <td>-1</td>\n",
              "    </tr>\n",
              "    <tr>\n",
              "      <th>133549</th>\n",
              "      <td>2021-01</td>\n",
              "      <td>202101133550</td>\n",
              "      <td>1</td>\n",
              "      <td>3</td>\n",
              "      <td>40</td>\n",
              "      <td>8</td>\n",
              "      <td>0</td>\n",
              "      <td>2</td>\n",
              "      <td>5</td>\n",
              "      <td>-1</td>\n",
              "      <td>43</td>\n",
              "      <td>1</td>\n",
              "      <td>10</td>\n",
              "      <td>-1</td>\n",
              "      <td>6</td>\n",
              "      <td>2840152</td>\n",
              "      <td>40</td>\n",
              "      <td>40</td>\n",
              "      <td>2</td>\n",
              "      <td>40</td>\n",
              "      <td>1</td>\n",
              "      <td>6</td>\n",
              "      <td>1</td>\n",
              "      <td>-1</td>\n",
              "      <td>6</td>\n",
              "      <td>9</td>\n",
              "      <td>3</td>\n",
              "    </tr>\n",
              "    <tr>\n",
              "      <th>133550</th>\n",
              "      <td>2021-01</td>\n",
              "      <td>202101133551</td>\n",
              "      <td>6</td>\n",
              "      <td>-1</td>\n",
              "      <td>-1</td>\n",
              "      <td>-1</td>\n",
              "      <td>0</td>\n",
              "      <td>1</td>\n",
              "      <td>-1</td>\n",
              "      <td>-1</td>\n",
              "      <td>-1</td>\n",
              "      <td>-1</td>\n",
              "      <td>-1</td>\n",
              "      <td>-1</td>\n",
              "      <td>6</td>\n",
              "      <td>0</td>\n",
              "      <td>6</td>\n",
              "      <td>-1</td>\n",
              "      <td>2</td>\n",
              "      <td>-1</td>\n",
              "      <td>1</td>\n",
              "      <td>-1</td>\n",
              "      <td>-1</td>\n",
              "      <td>-1</td>\n",
              "      <td>-1</td>\n",
              "      <td>-1</td>\n",
              "      <td>0</td>\n",
              "    </tr>\n",
              "    <tr>\n",
              "      <th>133551</th>\n",
              "      <td>2021-01</td>\n",
              "      <td>202101133552</td>\n",
              "      <td>1</td>\n",
              "      <td>-1</td>\n",
              "      <td>-1</td>\n",
              "      <td>-1</td>\n",
              "      <td>0</td>\n",
              "      <td>1</td>\n",
              "      <td>-1</td>\n",
              "      <td>-1</td>\n",
              "      <td>-1</td>\n",
              "      <td>-1</td>\n",
              "      <td>-1</td>\n",
              "      <td>-1</td>\n",
              "      <td>6</td>\n",
              "      <td>0</td>\n",
              "      <td>11</td>\n",
              "      <td>-1</td>\n",
              "      <td>1</td>\n",
              "      <td>-1</td>\n",
              "      <td>1</td>\n",
              "      <td>-1</td>\n",
              "      <td>-1</td>\n",
              "      <td>-1</td>\n",
              "      <td>-1</td>\n",
              "      <td>-1</td>\n",
              "      <td>0</td>\n",
              "    </tr>\n",
              "    <tr>\n",
              "      <th>133552</th>\n",
              "      <td>2021-01</td>\n",
              "      <td>202101133553</td>\n",
              "      <td>1</td>\n",
              "      <td>-1</td>\n",
              "      <td>-1</td>\n",
              "      <td>-1</td>\n",
              "      <td>0</td>\n",
              "      <td>1</td>\n",
              "      <td>-1</td>\n",
              "      <td>-1</td>\n",
              "      <td>-1</td>\n",
              "      <td>-1</td>\n",
              "      <td>-1</td>\n",
              "      <td>-1</td>\n",
              "      <td>6</td>\n",
              "      <td>0</td>\n",
              "      <td>14</td>\n",
              "      <td>-1</td>\n",
              "      <td>2</td>\n",
              "      <td>-1</td>\n",
              "      <td>1</td>\n",
              "      <td>-1</td>\n",
              "      <td>-1</td>\n",
              "      <td>-1</td>\n",
              "      <td>-1</td>\n",
              "      <td>-1</td>\n",
              "      <td>0</td>\n",
              "    </tr>\n",
              "  </tbody>\n",
              "</table>\n",
              "<p>921481 rows × 27 columns</p>\n",
              "</div>"
            ],
            "text/plain": [
              "        CPSDATE            ID PTDTRACE  ... PEHRUSL2 PRDTCOW1 PRNMCHLD\n",
              "0       2021-07       2021071        2  ...       -1        6        0\n",
              "1       2021-07       2021072        6  ...       -1        6        0\n",
              "2       2021-07       2021073        1  ...       -1        6        0\n",
              "3       2021-07       2021074        1  ...       -1        6        0\n",
              "4       2021-07       2021075       -1  ...       -1       -1       -1\n",
              "...         ...           ...      ...  ...      ...      ...      ...\n",
              "133548  2021-01  202101133549       -1  ...       -1       -1       -1\n",
              "133549  2021-01  202101133550        1  ...        6        9        3\n",
              "133550  2021-01  202101133551        6  ...       -1       -1        0\n",
              "133551  2021-01  202101133552        1  ...       -1       -1        0\n",
              "133552  2021-01  202101133553        1  ...       -1       -1        0\n",
              "\n",
              "[921481 rows x 27 columns]"
            ]
          },
          "metadata": {},
          "execution_count": 10
        }
      ]
    },
    {
      "cell_type": "code",
      "metadata": {
        "id": "QbRpR1VVG7Ng",
        "colab": {
          "base_uri": "https://localhost:8080/"
        },
        "outputId": "08322d30-9802-41fa-fedf-054157222db4"
      },
      "source": [
        "print(len(files))"
      ],
      "execution_count": null,
      "outputs": [
        {
          "output_type": "stream",
          "name": "stdout",
          "text": [
            "7\n"
          ]
        }
      ]
    },
    {
      "cell_type": "code",
      "metadata": {
        "colab": {
          "base_uri": "https://localhost:8080/"
        },
        "id": "KRCimXlx9Qpr",
        "outputId": "54a943e6-298e-44f7-8b97-5b2d7470ee39"
      },
      "source": [
        "files"
      ],
      "execution_count": null,
      "outputs": [
        {
          "output_type": "execute_result",
          "data": {
            "text/plain": [
              "['jan21pub.dat',\n",
              " 'feb21pub.dat',\n",
              " 'mar21pub.dat',\n",
              " 'apr21pub.dat',\n",
              " 'may21pub.dat',\n",
              " 'jun21pub.dat',\n",
              " 'jul21pub.dat']"
            ]
          },
          "metadata": {},
          "execution_count": 12
        }
      ]
    },
    {
      "cell_type": "code",
      "metadata": {
        "id": "rj6Oky_nC1Oa"
      },
      "source": [
        "df_data.to_csv(to_csvFile, encoding='utf-8-sig',index=False)"
      ],
      "execution_count": null,
      "outputs": []
    },
    {
      "cell_type": "code",
      "metadata": {
        "colab": {
          "base_uri": "https://localhost:8080/"
        },
        "id": "Iojl0Q_tbGZJ",
        "outputId": "83d5fa8c-5d87-4931-f876-4b57e18f9bdd"
      },
      "source": [
        "for col in df_data.columns:\n",
        "  print(f'{col}: {df_data[col].dtype}')"
      ],
      "execution_count": null,
      "outputs": [
        {
          "output_type": "stream",
          "name": "stdout",
          "text": [
            "CPSDATE: object\n",
            "ID: int64\n",
            "PTDTRACE: int64\n",
            "PEIO1COW: int64\n",
            "PEHRUSL1: int64\n",
            "PRDTOCC1: int64\n",
            "PWORWGT: int64\n",
            "PRPERTYP: int64\n",
            "PEMARITL: int64\n",
            "PTERNWA: int64\n",
            "PEEDUCA: int64\n",
            "PEMLR: int64\n",
            "PRMJIND1: int64\n",
            "PEHRFTPT: int64\n",
            "HRMIS: int64\n",
            "PWCMPWGT: int64\n",
            "PRTAGE: int64\n",
            "PRDTIND1: int64\n",
            "PESEX: int64\n",
            "PEHRACT1: int64\n",
            "HRINTSTA: int64\n",
            "PEHRACT2: int64\n",
            "PEMJOT: int64\n",
            "PEERNHRO: int64\n",
            "PEHRUSL2: int64\n",
            "PRDTCOW1: int64\n",
            "PRNMCHLD: int64\n"
          ]
        }
      ]
    },
    {
      "cell_type": "code",
      "metadata": {
        "colab": {
          "base_uri": "https://localhost:8080/"
        },
        "id": "tTB4Z6aQFcEA",
        "outputId": "2c372778-1052-4e36-ec8a-dfd9dac74420"
      },
      "source": [
        "time_end=time.time()\n",
        "print(f'total time: {round((time_end-time_start)/60,2)}')"
      ],
      "execution_count": null,
      "outputs": [
        {
          "output_type": "stream",
          "name": "stdout",
          "text": [
            "total time: 0.91\n"
          ]
        }
      ]
    },
    {
      "cell_type": "code",
      "metadata": {
        "colab": {
          "base_uri": "https://localhost:8080/"
        },
        "id": "6kP9DtYhVbg9",
        "outputId": "8e167680-a70f-4b7b-b02b-67b8e7cf2162"
      },
      "source": [
        "print(df_data.columns)"
      ],
      "execution_count": null,
      "outputs": [
        {
          "output_type": "stream",
          "name": "stdout",
          "text": [
            "Index(['CPSDATE', 'ID', 'PTDTRACE', 'PEIO1COW', 'PEHRUSL1', 'PRDTOCC1',\n",
            "       'PWORWGT', 'PRPERTYP', 'PEMARITL', 'PTERNWA', 'PEEDUCA', 'PEMLR',\n",
            "       'PRMJIND1', 'PEHRFTPT', 'HRMIS', 'PWCMPWGT', 'PRTAGE', 'PRDTIND1',\n",
            "       'PESEX', 'PEHRACT1', 'HRINTSTA', 'PEHRACT2', 'PEMJOT', 'PEERNHRO',\n",
            "       'PEHRUSL2', 'PRDTCOW1', 'PRNMCHLD'],\n",
            "      dtype='object')\n"
          ]
        }
      ]
    }
  ]
}